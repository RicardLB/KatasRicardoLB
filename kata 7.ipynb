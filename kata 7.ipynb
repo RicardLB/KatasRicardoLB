{
 "cells": [
  {
   "cell_type": "code",
   "execution_count": 2,
   "metadata": {},
   "outputs": [
    {
     "name": "stdout",
     "output_type": "stream",
     "text": [
      "los planetas que escribistes fueron\n",
      "redoble de tambores tarataratara\n",
      "tierra\n",
      "venus\n",
      "marte\n",
      "jupiter\n",
      "que grandes\n"
     ]
    }
   ],
   "source": [
    "nuevos_planetas = ''\n",
    "planetas = []\n",
    "\n",
    "while nuevos_planetas != \"terminado\" :\n",
    "    if nuevos_planetas:\n",
    "     planetas.append(nuevos_planetas)\n",
    "    nuevos_planetas = input(\"escribe nuevos planetas o si quieres terminar escribe terminado\")    \n",
    "\n",
    "from time import sleep\n",
    "print(\"los planetas que escribistes fueron\")\n",
    "sleep(1)\n",
    "print(\"redoble de tambores tarataratara\")\n",
    "sleep(2)\n",
    "\n",
    "\n",
    "\n",
    "for planetas_escritos in planetas:\n",
    " print(planetas_escritos)\n",
    " sleep(1)\n",
    "print(\"que grandes\")\n",
    "\n"
   ]
  }
 ],
 "metadata": {
  "interpreter": {
   "hash": "216338a39e6d657de16fe14c6cb1d46d7149b68b658eb021b63e6e92af0dbc4a"
  },
  "kernelspec": {
   "display_name": "Python 3.10.1 64-bit",
   "language": "python",
   "name": "python3"
  },
  "language_info": {
   "codemirror_mode": {
    "name": "ipython",
    "version": 3
   },
   "file_extension": ".py",
   "mimetype": "text/x-python",
   "name": "python",
   "nbconvert_exporter": "python",
   "pygments_lexer": "ipython3",
   "version": "3.10.1"
  },
  "orig_nbformat": 4
 },
 "nbformat": 4,
 "nbformat_minor": 2
}
