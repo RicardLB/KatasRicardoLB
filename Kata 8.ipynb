{
 "cells": [
  {
   "cell_type": "code",
   "execution_count": 26,
   "metadata": {},
   "outputs": [
    {
     "name": "stdout",
     "output_type": "stream",
     "text": [
      "Mars\n",
      "2\n",
      "6752\n",
      "6792\n",
      "el nombre y la circunferencia del planeta es:\n",
      "Mars\n",
      "6752\n"
     ]
    }
   ],
   "source": [
    "planetas = {\n",
    "     \"name\": \"Mars\",\n",
    "     \"moons\": 2\n",
    "}\n",
    "\n",
    "print (planetas[\"name\"])\n",
    "print (planetas[\"moons\"])\n",
    "\n",
    "planetas.update({\n",
    "    \"polar\": 6752,\n",
    "    \"equatorial\": 6792\n",
    "})\n",
    "print(planetas.get(\"polar\"))\n",
    "print(planetas.get(\"equatorial\"))\n",
    "\n",
    "print(\"el nombre y la circunferencia del planeta es:\")\n",
    "\n",
    "print (planetas[\"name\"])\n",
    "print (planetas[\"polar\"])\n",
    "\n"
   ]
  },
  {
   "cell_type": "code",
   "execution_count": 1,
   "metadata": {},
   "outputs": [
    {
     "name": "stdout",
     "output_type": "stream",
     "text": [
      "0.08333333333333333\n"
     ]
    }
   ],
   "source": [
    "planet_moons = {\n",
    "    'mercury': 0,\n",
    "    'venus': 0,\n",
    "    'earth': 1,\n",
    "    'mars': 2,\n",
    "    'jupiter': 79,\n",
    "    'saturn': 82,\n",
    "    'uranus': 27,\n",
    "    'neptune': 14,\n",
    "    'pluto': 5,\n",
    "    'haumea': 2,\n",
    "    'makemake': 1,\n",
    "    'eris': 1\n",
    "}\n",
    "lunas = planet_moons.values()\n",
    "\n",
    "planetas = len(planet_moons.keys())\n",
    "\n",
    "lunas_totales = 0\n",
    "for lunas in lunas:\n",
    "    lunas_totales = lunas\n",
    "lunas_por_planeta = lunas_totales / planetas\n",
    "print(lunas_por_planeta)    "
   ]
  }
 ],
 "metadata": {
  "interpreter": {
   "hash": "216338a39e6d657de16fe14c6cb1d46d7149b68b658eb021b63e6e92af0dbc4a"
  },
  "kernelspec": {
   "display_name": "Python 3.10.1 64-bit",
   "language": "python",
   "name": "python3"
  },
  "language_info": {
   "codemirror_mode": {
    "name": "ipython",
    "version": 3
   },
   "file_extension": ".py",
   "mimetype": "text/x-python",
   "name": "python",
   "nbconvert_exporter": "python",
   "pygments_lexer": "ipython3",
   "version": "3.10.1"
  },
  "orig_nbformat": 4
 },
 "nbformat": 4,
 "nbformat_minor": 2
}
