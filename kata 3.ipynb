{
 "cells": [
  {
   "cell_type": "markdown",
   "metadata": {},
   "source": [
    "ejercicios"
   ]
  },
  {
   "cell_type": "code",
   "execution_count": 19,
   "metadata": {},
   "outputs": [
    {
     "name": "stdout",
     "output_type": "stream",
     "text": [
      "advertencia asteroide acercandose\n"
     ]
    }
   ],
   "source": [
    "#Para este ejercicio, escribirás una lógica condicional que imprima una advertencia si un \n",
    "#asteroide se acerca a la Tierra demasiado rápido. La velocidad del asteroide varía dependiendo \n",
    "#de lo cerca que esté del sol, y cualquier velocidad superior a 25 kilómetros por segundo (km/s) merece una advertencia.\n",
    "\n",
    "#Un asteroide se acerca, y viaja a una velocidad de 49 km/s.\n",
    "\n",
    "velocidad_del_asteroide = 49\n",
    "advertencia = 25\n",
    "if velocidad_del_asteroide > advertencia:\n",
    " print(\"advertencia asteroide acercandose\")\n",
    "else:\n",
    " print(\"no hay peligro\")\n",
    "\n",
    "#Si un asteroide entra en la atmósfera de la Tierra a una velocidad mayor o igual a 20 km/s, a veces produce \n",
    "# un rayo de luz que se puede ver desde la Tierra. Escribe la lógica condicional que usa declaraciones if, else, \n",
    "# y elif para alertar a las personas de todo \n",
    "# el mundo que deben buscar un asteroide en el cielo. \n",
    "# ¡Hay uno que se dirige a la tierra ahora a una velocidad de 19 km/s! \n",
    "\n",
    "velocidad_para_ver = 20\n",
    "velocidad_del_meteoro = 19\n",
    "if velocidad_del_meteoro >= velocidad_para_ver:\n",
    " print(\"alerta para personas\")\n",
    "elif velocidad_del_meteoro == velocidad_para_ver:\n",
    "    print(\"mira al cielo\")\n",
    "else:\n",
    "    print(\"no hay peligro\")\n"
   ]
  },
  {
   "cell_type": "code",
   "execution_count": 28,
   "metadata": {},
   "outputs": [
    {
     "name": "stdout",
     "output_type": "stream",
     "text": [
      "Look up! ¡Hay una luz mágica en el cielo!\n"
     ]
    }
   ],
   "source": [
    "tamaño = 40\n",
    "velocidad = 25\n",
    "\n",
    "\n",
    "if velocidad > 25 and tamaño > 25:\n",
    "    print(\"Un asteroide muy peligroso viene hacia la Tierra!')\n",
    "elif velocidad >= 20:\n",
    "    print(\"¡Hay una luz mágica en el cielo!')\n",
    "elif tamaño < 25:\n",
    "    print('Nada que ver aquí')\n",
    "else:\n",
    "    print('Nada que ver aquí')\n",
    "\n"
   ]
  }
 ],
 "metadata": {
  "interpreter": {
   "hash": "216338a39e6d657de16fe14c6cb1d46d7149b68b658eb021b63e6e92af0dbc4a"
  },
  "kernelspec": {
   "display_name": "Python 3.10.1 64-bit",
   "language": "python",
   "name": "python3"
  },
  "language_info": {
   "codemirror_mode": {
    "name": "ipython",
    "version": 3
   },
   "file_extension": ".py",
   "mimetype": "text/x-python",
   "name": "python",
   "nbconvert_exporter": "python",
   "pygments_lexer": "ipython3",
   "version": "3.10.1"
  },
  "orig_nbformat": 4
 },
 "nbformat": 4,
 "nbformat_minor": 2
}
