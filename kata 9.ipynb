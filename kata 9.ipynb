{
 "cells": [
  {
   "cell_type": "code",
   "execution_count": 5,
   "metadata": {},
   "outputs": [
    {
     "name": "stdout",
     "output_type": "stream",
     "text": [
      "reporte:\n",
      "    tanque 1: 0%\n",
      "    tanque 2: 0%\n",
      "    tanque 3: 0%\n",
      "    \n",
      "reporte:\n",
      "    promedio: 80.0%\n",
      "    tanque 1: 80%\n",
      "    tanque 2: 70%\n",
      "    tanque 3: 90%\n",
      "    \n"
     ]
    }
   ],
   "source": [
    "def tanques(tanque1, tanque2, tanque3):\n",
    "    return f\"\"\"reporte:\n",
    "    tanque 1: {tanque1}%\n",
    "    tanque 2: {tanque2}%\n",
    "    tanque 3: {tanque3}%\n",
    "    \"\"\"\n",
    "print(tanques(0, 0, 0))\n",
    "\n",
    "def promedio(values):\n",
    "    total = sum(values)\n",
    "    numeros = len(values)\n",
    "    return total / numeros\n",
    "promedio([80, 85, 81]) \n",
    "\n",
    "#funcion nueva\n",
    "def tanques(tanque1, tanque2, tanque3):\n",
    "    return f\"\"\"reporte:\n",
    "    promedio: {promedio([tanque1, tanque2, tanque3])}%\n",
    "    tanque 1: {tanque1}%\n",
    "    tanque 2: {tanque2}%\n",
    "    tanque 3: {tanque3}%\n",
    "    \"\"\"\n",
    "print(tanques(80, 70, 90))\n",
    "\n",
    "\n"
   ]
  },
  {
   "cell_type": "code",
   "execution_count": 12,
   "metadata": {},
   "outputs": [
    {
     "name": "stdout",
     "output_type": "stream",
     "text": [
      "reporte:\n",
      "    hora de desplazamiento: 1.45 horas\n",
      "    tiempo de vuelo: 53 horas\n",
      "    destino: urano\n",
      "    tanque externo: 51 galones\n",
      "    tanque interno: 42 galones\n",
      "    \n",
      "\n",
      "    Total de minutos: 80 minutos\n",
      "    Total de depositos: 0\n",
      "    \n",
      "\n",
      "    Total de minutos: 50 minutos\n",
      "    Total de reservas: 102\n",
      "    principaL tanques--> 30 galones\n",
      "secundario tanques--> 30 galones\n",
      "terciario tanques--> 42 galones\n",
      "\n"
     ]
    }
   ],
   "source": [
    "def cohete(hora_de_desplazamiento, tiempo_de_vuelo, destino, tanque_externo, tanque_interno):\n",
    "    return f\"\"\"reporte:\n",
    "    hora de desplazamiento: {hora_de_desplazamiento} horas\n",
    "    tiempo de vuelo: {tiempo_de_vuelo} horas\n",
    "    destino: {destino}\n",
    "    tanque externo: {tanque_externo} galones\n",
    "    tanque interno: {tanque_interno} galones\n",
    "    \"\"\"\n",
    "print(cohete(1.45, 53, \"urano\", 51, 42))\n",
    "\n",
    "def mision(*minutes, **fuel_reservoirs):\n",
    "    return f\"\"\"\n",
    "    Total de minutos: {sum(minutes)} minutos\n",
    "    Total de depositos: {sum(fuel_reservoirs.values())}\n",
    "    \"\"\"\n",
    "print(mision(50, 30))\n",
    "\n",
    "def reporte(*minutos, **reservas):\n",
    "    reporte1 = f\"\"\"\n",
    "    Total de minutos: {sum(minutos)} minutos\n",
    "    Total de reservas: {sum(reservas.values())}\n",
    "    \"\"\"\n",
    "    for tanques, galones in reservas.items():\n",
    "        reporte1 += f\"{tanques} tanque = {galones} galones\\n\"\n",
    "    return reporte1\n",
    "print(reporte(50, principaL =30, secundario = 30, terciario= 42))"
   ]
  }
 ],
 "metadata": {
  "interpreter": {
   "hash": "216338a39e6d657de16fe14c6cb1d46d7149b68b658eb021b63e6e92af0dbc4a"
  },
  "kernelspec": {
   "display_name": "Python 3.10.1 64-bit",
   "language": "python",
   "name": "python3"
  },
  "language_info": {
   "codemirror_mode": {
    "name": "ipython",
    "version": 3
   },
   "file_extension": ".py",
   "mimetype": "text/x-python",
   "name": "python",
   "nbconvert_exporter": "python",
   "pygments_lexer": "ipython3",
   "version": "3.10.1"
  },
  "orig_nbformat": 4
 },
 "nbformat": 4,
 "nbformat_minor": 2
}
